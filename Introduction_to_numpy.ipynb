{
  "nbformat": 4,
  "nbformat_minor": 0,
  "metadata": {
    "colab": {
      "provenance": [],
      "authorship_tag": "ABX9TyPQOIKNm3s16TS7uVMCPA6Z",
      "include_colab_link": true
    },
    "kernelspec": {
      "name": "python3",
      "display_name": "Python 3"
    },
    "language_info": {
      "name": "python"
    }
  },
  "cells": [
    {
      "cell_type": "markdown",
      "metadata": {
        "id": "view-in-github",
        "colab_type": "text"
      },
      "source": [
        "<a href=\"https://colab.research.google.com/github/tejaNRI-Degree/Python-Mini-Project/blob/main/Introduction_to_numpy.ipynb\" target=\"_parent\"><img src=\"https://colab.research.google.com/assets/colab-badge.svg\" alt=\"Open In Colab\"/></a>"
      ]
    },
    {
      "cell_type": "code",
      "execution_count": 12,
      "metadata": {
        "id": "kVtXclLwt4UD"
      },
      "outputs": [],
      "source": [
        "#Numpy - Numeric python\n",
        "#Most powerful package - Library\n",
        "\n",
        "#Numpy - Dimensions\n",
        "\n",
        "#A-One Dimensions Array\n",
        "#[A,B] || [A\n",
        "#           B] - Two Dimensions Array -Row || column\n",
        "#Three Dimensional\n",
        "\n",
        "#Array-storing,Monipulating,similar Data type\n",
        "\n",
        "#Faster than any mathematical functions\n",
        "#convinient compared to other packages\n",
        "#Memory efficiency\n",
        "#Support multi dimensional array\n",
        "\n",
        "#speed(Numpy operations) > speed(Lists operations)\n",
        "#size(Numpy operations) < size (lists operations)\n",
        "#Memory optimization (Numpy)> Memory optimization (Lists operations)"
      ]
    },
    {
      "cell_type": "code",
      "source": [
        "#Install numpy - pip3 install numpy // pip install numpy"
      ],
      "metadata": {
        "id": "bEfvtEn6wJyv"
      },
      "execution_count": 13,
      "outputs": []
    },
    {
      "cell_type": "code",
      "source": [
        "import numpy as np"
      ],
      "metadata": {
        "id": "CG5PIMBGwb0I"
      },
      "execution_count": 14,
      "outputs": []
    },
    {
      "cell_type": "code",
      "source": [
        "#create a numpy array\n",
        "#1D array\n",
        "\n",
        "arr1D =np.array([1,2,3,4,5])\n",
        "print (arr1D)"
      ],
      "metadata": {
        "colab": {
          "base_uri": "https://localhost:8080/"
        },
        "id": "Fn0t02AHwesL",
        "outputId": "c266b649-0ece-4a1f-e439-1e8db26ec3ad"
      },
      "execution_count": 8,
      "outputs": [
        {
          "output_type": "stream",
          "name": "stdout",
          "text": [
            "[1 2 3 4 5]\n"
          ]
        }
      ]
    },
    {
      "cell_type": "code",
      "source": [
        "#creating 2D array - Matrix\n",
        "arr2D = np.array ([\n",
        "       [1,2,3],[4,5,6]\n",
        "])\n",
        "print(arr2D)"
      ],
      "metadata": {
        "colab": {
          "base_uri": "https://localhost:8080/"
        },
        "id": "TzfxONDjx4hh",
        "outputId": "9da18c67-262c-4071-84b1-e2c2d0f89252"
      },
      "execution_count": 30,
      "outputs": [
        {
          "output_type": "stream",
          "name": "stdout",
          "text": [
            "[[1 2 3]\n",
            " [4 5 6]]\n"
          ]
        }
      ]
    },
    {
      "cell_type": "code",
      "source": [
        "\n",
        "# Creating Arrays with default values\n",
        "\n",
        "# Creating matrix with all values of elements as '0'\n",
        "allZeros=np.zeros((2,3))\n",
        "print(allZeros)\n",
        "\n",
        "# Creating matrix with all values of elements as '0'\n",
        "allOnes=np.ones((2,3))\n",
        "print(allOnes)\n",
        "\n",
        "# Creating matrix with all value of elements 'constant value' - n ~ Fill value'\n",
        "allConstant=np.full((2,3),6)\n",
        "print(allConstant)"
      ],
      "metadata": {
        "colab": {
          "base_uri": "https://localhost:8080/"
        },
        "id": "UcIGJ8D57d1J",
        "outputId": "17e3a5ad-6e5b-42fc-cbdb-77bf236d4d40"
      },
      "execution_count": 39,
      "outputs": [
        {
          "output_type": "stream",
          "name": "stdout",
          "text": [
            "[[0. 0. 0.]\n",
            " [0. 0. 0.]]\n",
            "[[1. 1. 1.]\n",
            " [1. 1. 1.]]\n",
            "[[6 6 6]\n",
            " [6 6 6]]\n"
          ]
        }
      ]
    },
    {
      "cell_type": "code",
      "source": [
        "\n",
        "# Create an identity matrix - I - Square matrix\n",
        "\n",
        "identity= np.eye(4)\n",
        "print(identity)\n",
        "\n",
        "# Identity Matrix - Aii = 1 && Aij = 0\n",
        "# For all A Belongs to R MxN\n",
        "# Aij -"
      ],
      "metadata": {
        "colab": {
          "base_uri": "https://localhost:8080/"
        },
        "id": "YmW9PvQw8n5U",
        "outputId": "f57babd4-1949-4e2c-96cd-3b5358db8de0"
      },
      "execution_count": 48,
      "outputs": [
        {
          "output_type": "stream",
          "name": "stdout",
          "text": [
            "[[1. 0. 0. 0.]\n",
            " [0. 1. 0. 0.]\n",
            " [0. 0. 1. 0.]\n",
            " [0. 0. 0. 1.]]\n"
          ]
        }
      ]
    },
    {
      "cell_type": "code",
      "source": [
        "\n",
        "# Creating random Matrices\n",
        "\n",
        "# with 0 and 1\n",
        "rand1 = np.random.rand(3,3)\n",
        "print(rand1)\n",
        "\n",
        "# between a and b\n",
        "rand2 = np.random.randint(10,20,(3,3))\n",
        "print(rand2)"
      ],
      "metadata": {
        "colab": {
          "base_uri": "https://localhost:8080/"
        },
        "id": "FteAs1qa8tn-",
        "outputId": "4acd8abd-4ee3-43fa-abf0-902d037fdfbe"
      },
      "execution_count": 49,
      "outputs": [
        {
          "output_type": "stream",
          "name": "stdout",
          "text": [
            "[[0.61018843 0.95103006 0.77771742]\n",
            " [0.91456184 0.32632933 0.86937456]\n",
            " [0.35178834 0.01611571 0.41116326]]\n",
            "[[16 15 12]\n",
            " [17 17 19]\n",
            " [10 12 13]]\n"
          ]
        }
      ]
    },
    {
      "cell_type": "code",
      "source": [
        "#Array ProPerties\n",
        "\n",
        "arr = np.array([[1,2,3,4],[2,3,4,5]])\n",
        "print(arr)\n",
        "\n",
        "#Shape or array\n",
        "print(f'\\nThe shape of the arrays {arr.shape}')\n",
        "\n",
        "#Size of array\n",
        "print(f'The size of the array is {arr.size}')\n",
        "\n",
        "#Datatype of array\n",
        "print(f'The Data type of the array is {arr.dtype}')\n",
        "\n",
        "#Dimensions of array\n",
        "print (f'The Dimensions of the array is {arr.ndim}')"
      ],
      "metadata": {
        "colab": {
          "base_uri": "https://localhost:8080/"
        },
        "id": "RjjjPiei1FXg",
        "outputId": "e8c87251-b79b-4cb7-96e1-db6047b6e0ad"
      },
      "execution_count": 76,
      "outputs": [
        {
          "output_type": "stream",
          "name": "stdout",
          "text": [
            "[[1 2 3 4]\n",
            " [2 3 4 5]]\n",
            "\n",
            "The shape of the arrays (2, 4)\n",
            "The size of the array is 8\n",
            "The Data type of the array is int64\n",
            "The Dimensions of the array is 2\n"
          ]
        }
      ]
    },
    {
      "cell_type": "code",
      "source": [
        "# Indexing and Slicing\n",
        "\n",
        "# Acess the elements in 1D Array\n",
        "\n",
        "arr= np.array([1,2,3,4])\n",
        "print(arr)\n",
        "print(arr[3])\n",
        "\n",
        "#Slicing the elements\n",
        "print(arr[0:3])\n",
        "\n",
        "#Acess the elements in 2D Array\n",
        "arr2 = np.array([[1,2,3],[2,3,4]])\n",
        "print(arr2)\n",
        "print(arr2[1,1])\n",
        "print(arr2[0,:]) #first row with all columns\n",
        "print(arr2[:,0]) #first column with all rows"
      ],
      "metadata": {
        "colab": {
          "base_uri": "https://localhost:8080/"
        },
        "id": "GBiWFx8-71Jx",
        "outputId": "7beec4b1-0ad9-4181-cc69-a12cd08acce8"
      },
      "execution_count": 53,
      "outputs": [
        {
          "output_type": "stream",
          "name": "stdout",
          "text": [
            "[1 2 3 4]\n",
            "4\n",
            "[1 2 3]\n",
            "[[1 2 3]\n",
            " [2 3 4]]\n",
            "3\n",
            "[1 2 3]\n",
            "[1 2]\n"
          ]
        }
      ]
    },
    {
      "cell_type": "code",
      "source": [
        "#l1 = []\n",
        "#[l1.append(_) for _ in range (10)]\n",
        "\n",
        "l1 = np.arange(10,0,-1)\n",
        "print(l1)"
      ],
      "metadata": {
        "colab": {
          "base_uri": "https://localhost:8080/"
        },
        "id": "s1Z9yIfH_GJD",
        "outputId": "918b8712-0927-444d-ebb9-36f5033f9d61"
      },
      "execution_count": 61,
      "outputs": [
        {
          "output_type": "stream",
          "name": "stdout",
          "text": [
            "[10  9  8  7  6  5  4  3  2  1]\n"
          ]
        }
      ]
    },
    {
      "cell_type": "code",
      "source": [
        " # Mathematical operations\n",
        "import numpy as np\n",
        "a = np.array([1,2,3])\n",
        "b = np.array([3,4,5])\n",
        "\n",
        "print (f'The sum of a and b is {a+b}')\n",
        "print (f'The diff of a and b is {a-b}')\n",
        "print (f'The product of a and b is {a*b}')\n",
        "print (f'The division of a and b is {a/b}')"
      ],
      "metadata": {
        "colab": {
          "base_uri": "https://localhost:8080/"
        },
        "id": "EeOrYhzXB3TX",
        "outputId": "10614d78-465b-4bca-94cb-544deaed2394"
      },
      "execution_count": 68,
      "outputs": [
        {
          "output_type": "stream",
          "name": "stdout",
          "text": [
            "The sum of a and b is [4 6 8]\n",
            "The diff of a and b is [-2 -2 -2]\n",
            "The product of a and b is [ 3  8 15]\n",
            "The division of a and b is [0.33333333 0.5        0.6       ]\n"
          ]
        }
      ]
    },
    {
      "cell_type": "code",
      "source": [
        "#Matrix Multiplication\n",
        "import numpy as np\n",
        "b1 = np.array([[1,2,3],[2,3,4]])\n",
        "b2 = np.array([[5,6],[7,8],[1,3]])\n",
        "\n",
        "#Dot product  --- product = AB -- A  m  n x n  -- B n x p\n",
        "c = np.dot(b1,b2)\n",
        "print (c)"
      ],
      "metadata": {
        "colab": {
          "base_uri": "https://localhost:8080/"
        },
        "id": "RejvzYARCt_3",
        "outputId": "12395879-93ad-4d73-82d0-418223a8c5d2"
      },
      "execution_count": 71,
      "outputs": [
        {
          "output_type": "stream",
          "name": "stdout",
          "text": [
            "[[22 31]\n",
            " [35 48]]\n"
          ]
        }
      ]
    },
    {
      "cell_type": "code",
      "source": [
        "print(b1)"
      ],
      "metadata": {
        "colab": {
          "base_uri": "https://localhost:8080/"
        },
        "id": "Jz7ULT4bEnfc",
        "outputId": "81b93650-bd8b-4b07-b364-b11d6a0f09ec"
      },
      "execution_count": 74,
      "outputs": [
        {
          "output_type": "stream",
          "name": "stdout",
          "text": [
            "[[1 2 3]\n",
            " [2 3 4]]\n"
          ]
        }
      ]
    },
    {
      "cell_type": "code",
      "source": [
        "print(b2)"
      ],
      "metadata": {
        "colab": {
          "base_uri": "https://localhost:8080/"
        },
        "id": "B4kBWC4nEr6c",
        "outputId": "1a2680fd-bf39-4b71-ee96-d7e8bfde4ed9"
      },
      "execution_count": 75,
      "outputs": [
        {
          "output_type": "stream",
          "name": "stdout",
          "text": [
            "[[5 6]\n",
            " [7 8]\n",
            " [1 3]]\n"
          ]
        }
      ]
    }
  ]
}