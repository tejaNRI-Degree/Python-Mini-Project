{
 "cells": [
  {
   "cell_type": "code",
   "execution_count": 34,
   "metadata": {},
   "outputs": [
    {
     "ename": "ValueError",
     "evalue": "list.remove(x): x not in list",
     "output_type": "error",
     "traceback": [
      "\u001b[1;31m---------------------------------------------------------------------------\u001b[0m",
      "\u001b[1;31mValueError\u001b[0m                                Traceback (most recent call last)",
      "Cell \u001b[1;32mIn[34], line 11\u001b[0m\n\u001b[0;32m      9\u001b[0m     L2\u001b[38;5;241m.\u001b[39mappend(\u001b[38;5;28mmax\u001b[39m)\n\u001b[0;32m     10\u001b[0m \u001b[38;5;28;01mfor\u001b[39;00m _ \u001b[38;5;129;01min\u001b[39;00m \u001b[38;5;28mrange\u001b[39m(\u001b[38;5;28mlen\u001b[39m(L1)):\n\u001b[1;32m---> 11\u001b[0m      \u001b[43mfindmax\u001b[49m\u001b[43m(\u001b[49m\u001b[43mL1\u001b[49m\u001b[43m)\u001b[49m\n",
      "Cell \u001b[1;32mIn[34], line 8\u001b[0m, in \u001b[0;36mfindmax\u001b[1;34m(list)\u001b[0m\n\u001b[0;32m      6\u001b[0m  \u001b[38;5;28;01mif\u001b[39;00m _\u001b[38;5;241m>\u001b[39m\u001b[38;5;241m=\u001b[39mmaxvalue:\n\u001b[0;32m      7\u001b[0m     maxvalue\u001b[38;5;241m=\u001b[39m_\n\u001b[1;32m----> 8\u001b[0m \u001b[43mL1\u001b[49m\u001b[38;5;241;43m.\u001b[39;49m\u001b[43mremove\u001b[49m\u001b[43m(\u001b[49m\u001b[38;5;28;43mmax\u001b[39;49m\u001b[43m)\u001b[49m\n\u001b[0;32m      9\u001b[0m L2\u001b[38;5;241m.\u001b[39mappend(\u001b[38;5;28mmax\u001b[39m)\n",
      "\u001b[1;31mValueError\u001b[0m: list.remove(x): x not in list"
     ]
    }
   ],
   "source": [
    "L1=[16,9,5,20,19,3]\n",
    "L2=[]\n",
    "def findmax(list):\n",
    "    maxvalue=list[0]\n",
    "    for _ in list:\n",
    "     if _>=maxvalue:\n",
    "        maxvalue=_\n",
    "    L1.remove(maxvalue)\n",
    "    L2.append(maxvalue)\n",
    "for _ in range(len(L1)):\n",
    "     findmax(L1)\n",
    "     \n",
    "     "
   ]
  },
  {
   "cell_type": "code",
   "execution_count": 30,
   "metadata": {},
   "outputs": [
    {
     "data": {
      "text/plain": [
       "[]"
      ]
     },
     "execution_count": 30,
     "metadata": {},
     "output_type": "execute_result"
    }
   ],
   "source": []
  }
 ],
 "metadata": {
  "kernelspec": {
   "display_name": "Python 3",
   "language": "python",
   "name": "python3"
  },
  "language_info": {
   "codemirror_mode": {
    "name": "ipython",
    "version": 3
   },
   "file_extension": ".py",
   "mimetype": "text/x-python",
   "name": "python",
   "nbconvert_exporter": "python",
   "pygments_lexer": "ipython3",
   "version": "3.11.9"
  }
 },
 "nbformat": 4,
 "nbformat_minor": 2
}
