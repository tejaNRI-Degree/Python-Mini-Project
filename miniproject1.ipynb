{
 "cells": [
  {
   "cell_type": "code",
   "execution_count": 28,
   "metadata": {},
   "outputs": [
    {
     "name": "stdout",
     "output_type": "stream",
     "text": [
      "1. See tasks\n",
      "2. Create New tasks\n",
      "3. Update tasks\n",
      "4. Delete tasks\n",
      "{'Complete python project': 'in progress', 'I am wakeup early morning everyday': 'To doI am play with dog dailyDone', 'Then i will come to college by bus': 'To do'}\n"
     ]
    }
   ],
   "source": [
    "tasks={\n",
    "    \"Complete python project\": \"in progress\",\n",
    "    \"I am wakeup early morning everyday\": \"To do\"\n",
    "    \"I am play with dog daily\" \"Done\",\n",
    "    \"Then i will come to college by bus\": \"To do\",\n",
    "}\n",
    "print(\"1. See tasks\")\n",
    "print(\"2. Create New tasks\")\n",
    "print(\"3. Update tasks\")\n",
    "print(\"4. Delete tasks\")\n",
    "\n",
    "value  = input(\"Enter your action (): \")\n",
    "match value:\n",
    "    case \"see\":\n",
    "        print(tasks)\n",
    "    case \"Create\":\n",
    "        task = input(\"Enter new task\")\n",
    "        task[task] = \"To do\"\n",
    "        print(\"Task added,\")\n",
    "        print(tasks)\n",
    "    case \"Update\":\n",
    "        print(tasks)\n",
    "        task = input(\"Enter task to update: \")\n",
    "        if task in tasks:\n",
    "            task = input(\"Enter new description (To do/in progress/Done): \")\n",
    "        else:\n",
    "            print(\"Task not found.\")\n",
    "    case \"Delete\":\n",
    "        print(tasks)\n",
    "        task = input(\"Enter task to delete: \")\n",
    "        if a is None:\n",
    "            print(\"task not found\")\n",
    "        else:\n",
    "            print(\"task delete\")\n",
    "            print(tasks)"
   ]
  }
 ],
 "metadata": {
  "kernelspec": {
   "display_name": "Python 3",
   "language": "python",
   "name": "python3"
  },
  "language_info": {
   "codemirror_mode": {
    "name": "ipython",
    "version": 3
   },
   "file_extension": ".py",
   "mimetype": "text/x-python",
   "name": "python",
   "nbconvert_exporter": "python",
   "pygments_lexer": "ipython3",
   "version": "3.11.9"
  }
 },
 "nbformat": 4,
 "nbformat_minor": 2
}
