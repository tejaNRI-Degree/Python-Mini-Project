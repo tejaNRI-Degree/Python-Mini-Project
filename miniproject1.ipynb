{
 "cells": [
  {
   "cell_type": "code",
   "execution_count": 26,
   "metadata": {},
   "outputs": [
    {
     "ename": "SyntaxError",
     "evalue": "invalid syntax (633732980.py, line 4)",
     "output_type": "error",
     "traceback": [
      "\u001b[1;36m  Cell \u001b[1;32mIn[26], line 4\u001b[1;36m\u001b[0m\n\u001b[1;33m    \"I am play with dog daily\": \"Done\",\u001b[0m\n\u001b[1;37m                              ^\u001b[0m\n\u001b[1;31mSyntaxError\u001b[0m\u001b[1;31m:\u001b[0m invalid syntax\n"
     ]
    }
   ],
   "source": [
    "tasks={\n",
    "    \"Complete python project\": \"in progress\",\n",
    "    \"I am wakeup early morning everyday\": \"To do\"\n",
    "    \"I am play with dog daily\" \"Done\",\n",
    "    \"Then i will come to college by bus\": \"To do\",\n",
    "}\n",
    "print(\"1. See tasks\")\n",
    "print(\"2. Create New tasks\")\n",
    "print(\"3. Update tasks\")\n",
    "print(\"4. Delete tasks\")\n",
    "\n",
    "value  = input(\"Enter your action (): \")\n",
    "match value:\n",
    "    case \"see\":\n",
    "        print(tasks)\n",
    "    case \"Create\":\n",
    "        task = input(\"Enter new task\")\n",
    "        task[task] = \"To do\"\n",
    "        print(\"Task added,\")\n",
    "        print(tasks)\n",
    "    case \"Update\":\n",
    "        print(tasks)\n",
    "        task = input(\"Enter task to update: \")\n",
    "        if task in tasks:\n",
    "            task = input(\"Enter new description (To do/in progress/Done): \")\n",
    "        else:\n",
    "            print(\"Task not found.\")\n",
    "    case \"Delete\":\n",
    "        print(tasks)\n",
    "        task = input(\"Enter task to delete: \")\n",
    "        if a is None:\n",
    "            print(\"task not found\")\n",
    "        else:\n",
    "            print(\"task delete\")\n",
    "            print(tasks)"
   ]
  }
 ],
 "metadata": {
  "kernelspec": {
   "display_name": "Python 3",
   "language": "python",
   "name": "python3"
  },
  "language_info": {
   "codemirror_mode": {
    "name": "ipython",
    "version": 3
   },
   "file_extension": ".py",
   "mimetype": "text/x-python",
   "name": "python",
   "nbconvert_exporter": "python",
   "pygments_lexer": "ipython3",
   "version": "3.11.9"
  }
 },
 "nbformat": 4,
 "nbformat_minor": 2
}
