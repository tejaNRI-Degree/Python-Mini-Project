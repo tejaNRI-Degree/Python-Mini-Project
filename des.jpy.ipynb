{
 "cells": [
  {
   "cell_type": "code",
   "execution_count": 9,
   "metadata": {},
   "outputs": [],
   "source": [
    "L1=[21,31,13,14,12,11,10]\n",
    "L2=[]\n",
    "def findmaxi(list):\n",
    "    maxivalue = list [0]\n",
    "    for _ in list:\n",
    "     if _>= maxivalue:\n",
    "       maxi=_\n",
    "       L1.remove (maxivalue)\n",
    "       L2.append (maxivalue)\n",
    "for _ in range(len(L1)):\n",
    "          findmaxi(L1)\n",
    "          \n"
   ]
  },
  {
   "cell_type": "code",
   "execution_count": 10,
   "metadata": {},
   "outputs": [
    {
     "data": {
      "text/plain": [
       "[21, 31, 13, 14, 12, 11, 10]"
      ]
     },
     "execution_count": 10,
     "metadata": {},
     "output_type": "execute_result"
    }
   ],
   "source": [
    "L2"
   ]
  }
 ],
 "metadata": {
  "kernelspec": {
   "display_name": "Python 3",
   "language": "python",
   "name": "python3"
  },
  "language_info": {
   "codemirror_mode": {
    "name": "ipython",
    "version": 3
   },
   "file_extension": ".py",
   "mimetype": "text/x-python",
   "name": "python",
   "nbconvert_exporter": "python",
   "pygments_lexer": "ipython3",
   "version": "3.11.9"
  }
 },
 "nbformat": 4,
 "nbformat_minor": 2
}
